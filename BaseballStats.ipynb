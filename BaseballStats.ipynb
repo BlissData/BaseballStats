{
 "cells": [
  {
   "cell_type": "markdown",
   "metadata": {},
   "source": [
    "# Statistics for Major League Baseball from 1871 through 2016 "
   ]
  },
  {
   "cell_type": "markdown",
   "metadata": {},
   "source": [
    "The Lahman Baseball database created by Sean Lahman includes data from 2 current leagues(American and National), 4 other major leagues (American Association, Union Association, Players League and Federal League) and the National Association of 1871-1875."
   ]
  },
  {
   "cell_type": "markdown",
   "metadata": {},
   "source": [
    "When I started analyzing this extensive data, I was captivated by a lot of questions, puzzles and math."
   ]
  },
  {
   "cell_type": "markdown",
   "metadata": {},
   "source": [
    "I wanted to know the best teams. \n",
    "\n",
    "I wanted to know the interconnection between batting, pitching and fielding.\n",
    "\n",
    "Has the popularity of baseball changed historically and how ?\n",
    "\n",
    "Can I predict the performance of a player based on his earlier performance ?\n",
    "\n",
    "To me, Home Runs are fascinating. How the bat hits the ball and hurls it far away ! I wanted to learn more about Home Runs."
   ]
  },
  {
   "cell_type": "code",
   "execution_count": 1,
   "metadata": {
    "collapsed": true
   },
   "outputs": [],
   "source": [
    "import pandas as pd"
   ]
  },
  {
   "cell_type": "code",
   "execution_count": 2,
   "metadata": {
    "collapsed": true
   },
   "outputs": [],
   "source": [
    "%matplotlib inline\n",
    "import matplotlib.pyplot as plt\n",
    "import seaborn as sns\n",
    "import numpy as np"
   ]
  },
  {
   "cell_type": "markdown",
   "metadata": {},
   "source": [
    "__Correlation Between Shortstops and Designated Hitters__ :"
   ]
  },
  {
   "cell_type": "markdown",
   "metadata": {},
   "source": [
    "While reading about baseball I came across the concept of designated hitter. I also read that Shortstop is one of the most demanding defensive positions. I would expect a Shortstop to be a poor batter. So I decided to put that to test, by studying the correlation between a Shortstop and a Designated Hitter."
   ]
  },
  {
   "cell_type": "markdown",
   "metadata": {},
   "source": [
    "The Appearances database provides the information I need :"
   ]
  },
  {
   "cell_type": "code",
   "execution_count": 3,
   "metadata": {
    "collapsed": true
   },
   "outputs": [],
   "source": [
    "Appearances_df = pd.read_csv('Appearances.csv')"
   ]
  },
  {
   "cell_type": "markdown",
   "metadata": {},
   "source": [
    "The National and American Leagues operated under essentially identical rules until 1973, when the American League adopted the designated hitter (DH) rule, allowing its teams to use another hitter to bat in place of the (usually) weak-hitting pitcher. The National League did not adopt the DH rule."
   ]
  },
  {
   "cell_type": "markdown",
   "metadata": {},
   "source": [
    "I sliced the Appearances Dataframe accordingly :"
   ]
  },
  {
   "cell_type": "code",
   "execution_count": 4,
   "metadata": {
    "collapsed": true
   },
   "outputs": [],
   "source": [
    "designated_hitter_in_df = (Appearances_df[['yearID','lgID','G_ss','G_dh']].\n",
    "                           query('yearID >= 1973 and lgID == \"AL\"'))"
   ]
  },
  {
   "cell_type": "markdown",
   "metadata": {},
   "source": [
    "Then I computed pairwise correlation of its columns :"
   ]
  },
  {
   "cell_type": "code",
   "execution_count": 5,
   "metadata": {},
   "outputs": [
    {
     "data": {
      "text/html": [
       "<div>\n",
       "<table border=\"1\" class=\"dataframe\">\n",
       "  <thead>\n",
       "    <tr style=\"text-align: right;\">\n",
       "      <th></th>\n",
       "      <th>yearID</th>\n",
       "      <th>G_ss</th>\n",
       "      <th>G_dh</th>\n",
       "    </tr>\n",
       "  </thead>\n",
       "  <tbody>\n",
       "    <tr>\n",
       "      <th>yearID</th>\n",
       "      <td>1.000000</td>\n",
       "      <td>-0.021655</td>\n",
       "      <td>-0.035351</td>\n",
       "    </tr>\n",
       "    <tr>\n",
       "      <th>G_ss</th>\n",
       "      <td>-0.021655</td>\n",
       "      <td>1.000000</td>\n",
       "      <td>-0.041045</td>\n",
       "    </tr>\n",
       "    <tr>\n",
       "      <th>G_dh</th>\n",
       "      <td>-0.035351</td>\n",
       "      <td>-0.041045</td>\n",
       "      <td>1.000000</td>\n",
       "    </tr>\n",
       "  </tbody>\n",
       "</table>\n",
       "</div>"
      ],
      "text/plain": [
       "          yearID      G_ss      G_dh\n",
       "yearID  1.000000 -0.021655 -0.035351\n",
       "G_ss   -0.021655  1.000000 -0.041045\n",
       "G_dh   -0.035351 -0.041045  1.000000"
      ]
     },
     "execution_count": 5,
     "metadata": {},
     "output_type": "execute_result"
    }
   ],
   "source": [
    "designated_hitter_in_df.corr()"
   ]
  },
  {
   "cell_type": "markdown",
   "metadata": {},
   "source": [
    "Using Seaborn I plotted a Jointplot. To my convenience, it calls the function Pearson's r and also annotates the plot."
   ]
  },
  {
   "cell_type": "code",
   "execution_count": 72,
   "metadata": {},
   "outputs": [
    {
     "data": {
      "image/png": "[encoded data removed]",
      "text/plain": [
       "<matplotlib.figure.Figure at 0x1388ef28>"
      ]
     },
     "metadata": {},
     "output_type": "display_data"
    }
   ],
   "source": [
    "with sns.axes_style(\"white\"):\n",
    "    sns.jointplot(x=designated_hitter_in_df['G_ss'], y=designated_hitter_in_df['G_dh'])      "
   ]
  },
  {
   "cell_type": "markdown",
   "metadata": {},
   "source": [
    "This shows the Correlation between Games played as Shortstop and Games played as Designated Hitter."
   ]
  },
  {
   "cell_type": "markdown",
   "metadata": {},
   "source": [
    "If I use log scale along y-axis :"
   ]
  },
  {
   "cell_type": "code",
   "execution_count": 73,
   "metadata": {},
   "outputs": [
    {
     "data": {
      "text/plain": [
       "<matplotlib.text.Text at 0x139baef0>"
      ]
     },
     "execution_count": 73,
     "metadata": {},
     "output_type": "execute_result"
    },
    {
     "data": {
      "image/png": "[encoded data removed]",
      "text/plain": [
       "<matplotlib.figure.Figure at 0x139e40b8>"
      ]
     },
     "metadata": {},
     "output_type": "display_data"
    }
   ],
   "source": [
    "plt.semilogy(designated_hitter_in_df['G_ss'],designated_hitter_in_df['G_dh'],'ro')\n",
    "plt.title('Correlation between Shortstops and Designated Hitters(Semilog)')\n",
    "plt.xlabel('Games played as Shortstop')\n",
    "plt.ylabel('log of Games played as Designated Hitter')"
   ]
  },
  {
   "cell_type": "markdown",
   "metadata": {},
   "source": [
    "###### My analysis agreed with my expectation, in that, the Pearson's r came out to be negative. \n",
    "So in general, a good Shortstop is not a good Designated Hitter, and vice versa.\n",
    "\n",
    "However since the r value is only -0.04, this particular relation is not so significant ! \n",
    "\n",
    "There are exceptional players like Alex Rodriguez who are good as both Shortstop and Designated Hitter !"
   ]
  },
  {
   "cell_type": "markdown",
   "metadata": {},
   "source": [
    "###### Next, I want to know the players who are currently playing for MLB : "
   ]
  },
  {
   "cell_type": "code",
   "execution_count": 8,
   "metadata": {
    "collapsed": true
   },
   "outputs": [],
   "source": [
    "Master_df = pd.read_csv('Master.csv')\n",
    "#Master_df.hist()"
   ]
  },
  {
   "cell_type": "markdown",
   "metadata": {},
   "source": [
    "I need only a few of the columns :"
   ]
  },
  {
   "cell_type": "code",
   "execution_count": 9,
   "metadata": {
    "collapsed": true
   },
   "outputs": [],
   "source": [
    "players_df = Master_df[['playerID','nameFirst','nameLast','birthYear','debut','finalGame']]\n",
    "#players_df.hist()"
   ]
  },
  {
   "cell_type": "markdown",
   "metadata": {},
   "source": [
    "Some of the date columns in my dataframes are string objects. Since I want to extract only 'Year' from them, I wrote a function which converts them to datetime format and then extracts 'Year' value."
   ]
  },
  {
   "cell_type": "code",
   "execution_count": 10,
   "metadata": {
    "collapsed": true
   },
   "outputs": [],
   "source": [
    "def df_column_get_yr(df_column):\n",
    "    \n",
    "    def get_yr(date):\n",
    "        return date.year\n",
    "    return (pd.to_datetime(df_column)).apply(get_yr)"
   ]
  },
  {
   "cell_type": "markdown",
   "metadata": {},
   "source": [
    "Applying this function to the 'finalGame' column :"
   ]
  },
  {
   "cell_type": "code",
   "execution_count": 11,
   "metadata": {
    "collapsed": true,
    "scrolled": true
   },
   "outputs": [],
   "source": [
    "final_Game_yr = df_column_get_yr(players_df['finalGame'])\n",
    "#final_Game_yr.hist()"
   ]
  },
  {
   "cell_type": "markdown",
   "metadata": {},
   "source": [
    "Now, to get the current players, I check if their final game is in year 2016."
   ]
  },
  {
   "cell_type": "code",
   "execution_count": 12,
   "metadata": {
    "collapsed": true,
    "scrolled": true
   },
   "outputs": [],
   "source": [
    "current_players_df = players_df[final_Game_yr==2016]\n",
    "#current_players_df"
   ]
  },
  {
   "cell_type": "markdown",
   "metadata": {},
   "source": [
    "That is a slice. Since I won't be able to do certain operations on a slice, let me get a proper dataframe by merging the slice with the original."
   ]
  },
  {
   "cell_type": "code",
   "execution_count": 13,
   "metadata": {
    "collapsed": true
   },
   "outputs": [],
   "source": [
    "Players_current_df = (players_df.merge(current_players_df,on=['playerID','nameFirst','nameLast',\n",
    "                                                              'birthYear','debut',\n",
    "                                                              'finalGame'],how='inner'))"
   ]
  },
  {
   "cell_type": "markdown",
   "metadata": {},
   "source": [
    "Batting, Pitching and Fielding databases :"
   ]
  },
  {
   "cell_type": "code",
   "execution_count": 14,
   "metadata": {
    "collapsed": true
   },
   "outputs": [],
   "source": [
    "Batting_df = pd.read_csv('Batting.csv')\n",
    "Pitching_df = pd.read_csv('Pitching.csv')\n",
    "Fielding_df = pd.read_csv('Fielding.csv')"
   ]
  },
  {
   "cell_type": "markdown",
   "metadata": {},
   "source": [
    "I realized that I have to merge dataframes many times in this analysis. So I wrote a function to do just that :"
   ]
  },
  {
   "cell_type": "code",
   "execution_count": 15,
   "metadata": {
    "collapsed": true
   },
   "outputs": [],
   "source": [
    "def df_merge(df1,df2,a_k):\n",
    "    return df1.merge(df2, on=a_k, how='inner')"
   ]
  },
  {
   "cell_type": "markdown",
   "metadata": {},
   "source": [
    "To know the current Batters, Pitchers and Fielders :"
   ]
  },
  {
   "cell_type": "code",
   "execution_count": 16,
   "metadata": {
    "collapsed": true
   },
   "outputs": [],
   "source": [
    "Batting_current_df = df_merge(Batting_df,Players_current_df,'playerID')"
   ]
  },
  {
   "cell_type": "code",
   "execution_count": 17,
   "metadata": {
    "collapsed": true
   },
   "outputs": [],
   "source": [
    "Pitching_current_df = df_merge(Pitching_df,Players_current_df,'playerID')"
   ]
  },
  {
   "cell_type": "code",
   "execution_count": 18,
   "metadata": {
    "collapsed": true
   },
   "outputs": [],
   "source": [
    "Fielding_current_df = df_merge(Fielding_df,Players_current_df,'playerID')"
   ]
  },
  {
   "cell_type": "markdown",
   "metadata": {},
   "source": [
    "I would need to find 'on base percentage', 'slugging percentage' and 'on base plus slugging' statistics for different slices of the Batting dataframe. So I wrote functions for each of them."
   ]
  },
  {
   "cell_type": "code",
   "execution_count": 19,
   "metadata": {
    "collapsed": true
   },
   "outputs": [],
   "source": [
    "def on_base_percentage(df,a,b,c,d,e):\n",
    "    return (df[[a,b,c]].sum(axis=1))/(df[[d,b,c,e]].sum(axis=1))\n",
    "#where a is 'H',b is 'BB',c is 'HBP',d is 'AB',e is 'SF"
   ]
  },
  {
   "cell_type": "code",
   "execution_count": 20,
   "metadata": {
    "collapsed": true
   },
   "outputs": [],
   "source": [
    "def slugging_percentage(df,a,b,c,d,e):\n",
    "    return (df[a]+df[b]+2*df[c]+3*df[d])/df[e]\n",
    "#where a is 'H',b is '2B',c is '3B',d is 'HR',e is 'AB'"
   ]
  },
  {
   "cell_type": "code",
   "execution_count": 21,
   "metadata": {
    "collapsed": true
   },
   "outputs": [],
   "source": [
    "def on_base_plus_slugging(df,a,b):\n",
    "    return df[a]+df[b]\n",
    "#where a is 'OBP',b is 'SLG'"
   ]
  },
  {
   "cell_type": "markdown",
   "metadata": {},
   "source": [
    "I will now create new columns in my Batting_current dataframe :"
   ]
  },
  {
   "cell_type": "code",
   "execution_count": 22,
   "metadata": {
    "collapsed": true
   },
   "outputs": [],
   "source": [
    "Batting_current_df['OBP'] = on_base_percentage(Batting_current_df,'H','BB','HBP','AB','SF')"
   ]
  },
  {
   "cell_type": "code",
   "execution_count": 23,
   "metadata": {
    "collapsed": true
   },
   "outputs": [],
   "source": [
    "Batting_current_df['SLG'] = slugging_percentage(Batting_current_df,'H','2B','3B','HR','AB')"
   ]
  },
  {
   "cell_type": "code",
   "execution_count": 24,
   "metadata": {
    "scrolled": false
   },
   "outputs": [
    {
     "data": {
      "text/plain": [
       "count    5368.000000\n",
       "mean        0.553349\n",
       "std         0.341450\n",
       "min         0.000000\n",
       "25%         0.319117\n",
       "50%         0.650037\n",
       "75%         0.767554\n",
       "max         5.000000\n",
       "Name: OPS, dtype: float64"
      ]
     },
     "execution_count": 24,
     "metadata": {},
     "output_type": "execute_result"
    }
   ],
   "source": [
    "Batting_current_df['OPS'] = on_base_plus_slugging(Batting_current_df,'OBP','SLG')\n",
    "Batting_current_df['OPS'].describe()"
   ]
  },
  {
   "cell_type": "markdown",
   "metadata": {},
   "source": [
    "I was curious to see who had this max OPS of 5 :"
   ]
  },
  {
   "cell_type": "code",
   "execution_count": 25,
   "metadata": {},
   "outputs": [
    {
     "data": {
      "text/plain": [
       "1263"
      ]
     },
     "execution_count": 25,
     "metadata": {},
     "output_type": "execute_result"
    }
   ],
   "source": [
    "Batting_current_df['OPS'].argmax()"
   ]
  },
  {
   "cell_type": "code",
   "execution_count": 26,
   "metadata": {
    "scrolled": true
   },
   "outputs": [
    {
     "data": {
      "text/plain": [
       "playerID      hernafe02\n",
       "yearID             2008\n",
       "stint                 1\n",
       "teamID              SEA\n",
       "lgID                 AL\n",
       "G                    31\n",
       "AB                    1\n",
       "R                     1\n",
       "H                     1\n",
       "2B                    0\n",
       "3B                    0\n",
       "HR                    1\n",
       "RBI                   4\n",
       "SB                    0\n",
       "CS                    0\n",
       "BB                    0\n",
       "SO                    0\n",
       "IBB                   0\n",
       "HBP                   0\n",
       "SH                    1\n",
       "SF                    0\n",
       "GIDP                  0\n",
       "nameFirst         Felix\n",
       "nameLast      Hernandez\n",
       "birthYear          1986\n",
       "debut        2005-08-04\n",
       "finalGame    2016-10-02\n",
       "OBP                   1\n",
       "SLG                   4\n",
       "OPS                   5\n",
       "Name: 1263, dtype: object"
      ]
     },
     "execution_count": 26,
     "metadata": {},
     "output_type": "execute_result"
    }
   ],
   "source": [
    "Batting_current_df.loc[1263]"
   ]
  },
  {
   "cell_type": "markdown",
   "metadata": {},
   "source": [
    "Statistics like this one here shows interesting information about a player. In 2008,Felix Hernandez, in his only At Bat of the season hit his first major league Home Run,a Grand Slam ! He became the first American League Pitcher to hit a Grand Slam."
   ]
  },
  {
   "cell_type": "markdown",
   "metadata": {
    "collapsed": true
   },
   "source": [
    "###### Test Hypothesis about OPS average during World War 2 : "
   ]
  },
  {
   "cell_type": "markdown",
   "metadata": {},
   "source": [
    "I was curious to know the effects of World War 2 on MLB.\n",
    "Thanks to President Roosevelt's Greenlight letter, baseball continued to be played during the war, allowing Americans to enjoy a sense of normalcy. However MLB played more older players, since younger players like Joe DiMaggio, Ted Williams served their nation off the diamond !\n",
    "\n",
    "This must have brought the performance levels down.\n",
    "I decided to check this with the \"on base plus slugging\" statistic which gauges the batter's overall ability."
   ]
  },
  {
   "cell_type": "markdown",
   "metadata": {},
   "source": [
    "I sliced the Batting dataframe and got this dataframe for the World War 2 period 1941-1945."
   ]
  },
  {
   "cell_type": "code",
   "execution_count": 27,
   "metadata": {
    "collapsed": true
   },
   "outputs": [],
   "source": [
    "Batting_WW2_df = Batting_df.query('yearID>=1941 and yearID<=1945')"
   ]
  },
  {
   "cell_type": "markdown",
   "metadata": {},
   "source": [
    "Following are the batting statistics for the war period :"
   ]
  },
  {
   "cell_type": "code",
   "execution_count": 28,
   "metadata": {},
   "outputs": [
    {
     "data": {
      "text/plain": [
       "count    2712.000000\n",
       "mean        0.536229\n",
       "std         0.288776\n",
       "min         0.000000\n",
       "25%         0.368627\n",
       "50%         0.568978\n",
       "75%         0.702767\n",
       "max         3.000000\n",
       "dtype: float64"
      ]
     },
     "execution_count": 28,
     "metadata": {},
     "output_type": "execute_result"
    }
   ],
   "source": [
    "OBP_WW2 = on_base_percentage(Batting_WW2_df,'H','BB','HBP','AB','SF')\n",
    "SLG_WW2 = slugging_percentage(Batting_WW2_df,'H','2B','3B','HR','AB')\n",
    "OPS_WW2 = OBP_WW2 + SLG_WW2\n",
    "\n",
    "OPS_WW2.describe()"
   ]
  },
  {
   "cell_type": "markdown",
   "metadata": {},
   "source": [
    "Following are the batting statistics for the whole period that this data is available:"
   ]
  },
  {
   "cell_type": "code",
   "execution_count": 29,
   "metadata": {},
   "outputs": [
    {
     "data": {
      "text/plain": [
       "count    87435.000000\n",
       "mean         0.554155\n",
       "std          0.308963\n",
       "min          0.000000\n",
       "25%          0.383875\n",
       "50%          0.603030\n",
       "75%          0.733830\n",
       "max          5.000000\n",
       "dtype: float64"
      ]
     },
     "execution_count": 29,
     "metadata": {},
     "output_type": "execute_result"
    }
   ],
   "source": [
    "OBP_overall = on_base_percentage(Batting_df,'H','BB','HBP','AB','SF')\n",
    "SLG_overall = slugging_percentage(Batting_df,'H','2B','3B','HR','AB')\n",
    "OPS_overall = OBP_overall + SLG_overall\n",
    "\n",
    "OPS_overall.describe()"
   ]
  },
  {
   "cell_type": "markdown",
   "metadata": {},
   "source": [
    "I chose to conduct a one-tailed Hypothesis Test."
   ]
  },
  {
   "cell_type": "raw",
   "metadata": {
    "collapsed": true
   },
   "source": [
    "If µ_w is the mean OPS for the War Period, and µ is the mean OPS for the whole data, \n",
    "my Null Hypothesis would be :\n",
    "H_o  :  µ = µ_w\n",
    "my Alternative Hypothesis would be :\n",
    "H_a  :  µ > µ_w"
   ]
  },
  {
   "cell_type": "raw",
   "metadata": {
    "collapsed": true
   },
   "source": [
    "µ = 0.554,    std.dev.= 0.309\n",
    "µ_w = 0.536   n = 2712\n",
    "z = (µ_w - µ)/std.error\n",
    "\n",
    "z = (0.536-0.554)/(0.309/√2712)"
   ]
  },
  {
   "cell_type": "raw",
   "metadata": {
    "collapsed": true
   },
   "source": [
    "z = -3.03\n",
    "z_critical = -1.65   for significance alpha level of 5%"
   ]
  },
  {
   "cell_type": "markdown",
   "metadata": {},
   "source": [
    "The z value is less than z_critical value. \n",
    "So I can Reject The Null Hypothesis.\n"
   ]
  },
  {
   "cell_type": "markdown",
   "metadata": {},
   "source": [
    "So simply looking at the Batting Statistics, I can say that the performance level did go down during the war. "
   ]
  },
  {
   "cell_type": "markdown",
   "metadata": {},
   "source": [
    "This could be a true significance, or could be due to noise in the data.\n",
    "Its a Tentative Conclusion.\n",
    "Correlation does not necessarily imply causation."
   ]
  },
  {
   "cell_type": "markdown",
   "metadata": {},
   "source": [
    "##### Now I would like to do some analysis for the purpose of future selection :"
   ]
  },
  {
   "cell_type": "markdown",
   "metadata": {},
   "source": [
    "\n",
    "First, I want to find 'average peak performance years' for 'all the players' in the data, so that I can find how many 'more years of peak performance' my 'current players' have : "
   ]
  },
  {
   "cell_type": "markdown",
   "metadata": {},
   "source": [
    "For this, I find 'final game year' and 'debut year' from the slice, players dataframe, of the Master dataframe."
   ]
  },
  {
   "cell_type": "code",
   "execution_count": 30,
   "metadata": {
    "collapsed": true,
    "scrolled": true
   },
   "outputs": [],
   "source": [
    "final_Game_yr = df_column_get_yr(players_df['finalGame'])"
   ]
  },
  {
   "cell_type": "code",
   "execution_count": 31,
   "metadata": {
    "collapsed": true
   },
   "outputs": [],
   "source": [
    "debut_yr = df_column_get_yr(players_df['debut'])"
   ]
  },
  {
   "cell_type": "markdown",
   "metadata": {},
   "source": [
    "Then I find the difference between them to get the 'peak performance years'."
   ]
  },
  {
   "cell_type": "code",
   "execution_count": 32,
   "metadata": {
    "collapsed": true
   },
   "outputs": [],
   "source": [
    "peak_yrs = final_Game_yr - debut_yr\n",
    "#peak_yrs.nlargest(n=15)\n",
    "#peak_yrs.hist()"
   ]
  },
  {
   "cell_type": "markdown",
   "metadata": {},
   "source": [
    "The mean peak performance for all the players is :"
   ]
  },
  {
   "cell_type": "code",
   "execution_count": 33,
   "metadata": {},
   "outputs": [
    {
     "data": {
      "text/plain": [
       "4.716393442622951"
      ]
     },
     "execution_count": 33,
     "metadata": {},
     "output_type": "execute_result"
    }
   ],
   "source": [
    "peak_yrs.mean()"
   ]
  },
  {
   "cell_type": "markdown",
   "metadata": {},
   "source": [
    "Now, for the current players :"
   ]
  },
  {
   "cell_type": "code",
   "execution_count": 34,
   "metadata": {
    "collapsed": true
   },
   "outputs": [],
   "source": [
    "final_Game_current_yr = df_column_get_yr(Players_current_df['finalGame'])"
   ]
  },
  {
   "cell_type": "code",
   "execution_count": 35,
   "metadata": {
    "collapsed": true
   },
   "outputs": [],
   "source": [
    "debut_current_yr = df_column_get_yr(Players_current_df['debut'])"
   ]
  },
  {
   "cell_type": "code",
   "execution_count": 36,
   "metadata": {
    "collapsed": true
   },
   "outputs": [],
   "source": [
    "peak_current_yrs = final_Game_current_yr - debut_current_yr"
   ]
  },
  {
   "cell_type": "markdown",
   "metadata": {},
   "source": [
    "By subtracting 'peak performance years for current players' from the 'mean peak performance years for all players', I get the 'minimum more number of peak performance years' I can expect for my current players :"
   ]
  },
  {
   "cell_type": "code",
   "execution_count": 37,
   "metadata": {
    "collapsed": true
   },
   "outputs": [],
   "source": [
    "min_more_peak_yrs = 4.7 - peak_current_yrs\n",
    "#min_more_peak_yrs.hist()"
   ]
  },
  {
   "cell_type": "markdown",
   "metadata": {},
   "source": [
    "I create this column in the dataframe of my current players :"
   ]
  },
  {
   "cell_type": "code",
   "execution_count": 38,
   "metadata": {
    "collapsed": true
   },
   "outputs": [],
   "source": [
    "Players_current_df['Min_More_Peak_yrs'] = min_more_peak_yrs"
   ]
  },
  {
   "cell_type": "markdown",
   "metadata": {},
   "source": [
    "I would like to consider their salaries too :"
   ]
  },
  {
   "cell_type": "code",
   "execution_count": 39,
   "metadata": {
    "collapsed": true
   },
   "outputs": [],
   "source": [
    "Salaries_df = pd.read_csv('salaries.csv')"
   ]
  },
  {
   "cell_type": "markdown",
   "metadata": {},
   "source": [
    "I merge these 2 dataframes using the df_merge function I wrote earlier :"
   ]
  },
  {
   "cell_type": "code",
   "execution_count": 40,
   "metadata": {
    "collapsed": true
   },
   "outputs": [],
   "source": [
    "Salaries_current_df = df_merge(Salaries_df,Players_current_df,'playerID')"
   ]
  },
  {
   "cell_type": "markdown",
   "metadata": {},
   "source": [
    "I am interested in the current salaries of these players. So I query :"
   ]
  },
  {
   "cell_type": "code",
   "execution_count": 41,
   "metadata": {
    "collapsed": true
   },
   "outputs": [],
   "source": [
    "current_salaries_df = (Salaries_current_df[['yearID','playerID','salary','Min_More_Peak_yrs']].\n",
    "                       query('yearID==2016'))\n",
    "#current_salaries_df.info()"
   ]
  },
  {
   "cell_type": "markdown",
   "metadata": {},
   "source": [
    "So now I have information about my current players regarding how many more years they can perform well and what salaries they would expect."
   ]
  },
  {
   "cell_type": "markdown",
   "metadata": {},
   "source": [
    "Let me merge this information with the Batting information I have about my current players :"
   ]
  },
  {
   "cell_type": "markdown",
   "metadata": {},
   "source": [
    "Since the 2 dataframes are of different sizes, and I do not want to lose any information from these 2 dataframes, I merge them this way :"
   ]
  },
  {
   "cell_type": "code",
   "execution_count": 42,
   "metadata": {
    "collapsed": true,
    "scrolled": false
   },
   "outputs": [],
   "source": [
    "Batting_Salaries_current_df = (Batting_current_df.merge(current_salaries_df, on='playerID',\n",
    "                                                        how='left'))"
   ]
  },
  {
   "cell_type": "markdown",
   "metadata": {},
   "source": [
    "Then I slice it :"
   ]
  },
  {
   "cell_type": "code",
   "execution_count": 43,
   "metadata": {
    "collapsed": true
   },
   "outputs": [],
   "source": [
    "choose_batters_df = (Batting_Salaries_current_df[['playerID','yearID_x','nameFirst','nameLast',\n",
    "                                                  'teamID','lgID','OPS',\n",
    "                                                  'salary','Min_More_Peak_yrs']].\n",
    "                     query('yearID_x==2016'))\n",
    "#choose_batters_df"
   ]
  },
  {
   "cell_type": "markdown",
   "metadata": {},
   "source": [
    "Some players have more than 1 batting statistics for the current year. I take their mean:"
   ]
  },
  {
   "cell_type": "code",
   "execution_count": 44,
   "metadata": {},
   "outputs": [
    {
     "name": "stdout",
     "output_type": "stream",
     "text": [
      "<class 'pandas.core.frame.DataFrame'>\n",
      "MultiIndex: 1353 entries, (abadfe01, Fernando, Abad) to (zychto01, Tony, Zych)\n",
      "Data columns (total 4 columns):\n",
      "yearID_x             1353 non-null int64\n",
      "OPS                  960 non-null float64\n",
      "salary               805 non-null float64\n",
      "Min_More_Peak_yrs    805 non-null float64\n",
      "dtypes: float64(3), int64(1)\n",
      "memory usage: 73.8+ KB\n"
     ]
    }
   ],
   "source": [
    "Batter_choice_df = choose_batters_df.groupby(['playerID','nameFirst','nameLast']).mean()\n",
    "Batter_choice_df.info()"
   ]
  },
  {
   "cell_type": "markdown",
   "metadata": {},
   "source": [
    "I see that some of the columns do not have information about certain players. But I want to retain those players, regardless. I might find the missing information from other sources."
   ]
  },
  {
   "cell_type": "code",
   "execution_count": 45,
   "metadata": {},
   "outputs": [
    {
     "data": {
      "text/plain": [
       "count    805.000000\n",
       "mean      -0.764596\n",
       "std        3.804658\n",
       "min      -17.300000\n",
       "25%       -3.300000\n",
       "50%       -0.300000\n",
       "75%        2.700000\n",
       "max        4.700000\n",
       "Name: Min_More_Peak_yrs, dtype: float64"
      ]
     },
     "execution_count": 45,
     "metadata": {},
     "output_type": "execute_result"
    }
   ],
   "source": [
    "Batter_choice_df['Min_More_Peak_yrs'].describe()"
   ]
  },
  {
   "cell_type": "markdown",
   "metadata": {},
   "source": [
    "I notice that some players are long past their peak performance years, but they could be valuable for their experience ! \n",
    "\n",
    "Others are just starting ! \n",
    "\n",
    "This information will help in making a wise choice."
   ]
  },
  {
   "cell_type": "markdown",
   "metadata": {},
   "source": [
    "Let me sort them by descending 'OPS', since I want to see my best batters at the top."
   ]
  },
  {
   "cell_type": "code",
   "execution_count": 46,
   "metadata": {
    "collapsed": true
   },
   "outputs": [],
   "source": [
    "Current_Batter_choice_df = Batter_choice_df.sort_values('OPS',ascending=False)\n",
    "#Current_Batter_choice_df.hist()"
   ]
  },
  {
   "cell_type": "markdown",
   "metadata": {},
   "source": [
    "This Table will make it easy for me to choose a Batter for the next season !"
   ]
  },
  {
   "cell_type": "markdown",
   "metadata": {},
   "source": [
    "Now for Pitcher :"
   ]
  },
  {
   "cell_type": "markdown",
   "metadata": {},
   "source": [
    "I want to find the 'walks plus hits per inning pitched' for my current Pitchers :"
   ]
  },
  {
   "cell_type": "code",
   "execution_count": 47,
   "metadata": {
    "collapsed": true
   },
   "outputs": [],
   "source": [
    "Pitching_current_df['WHIP'] = ((Pitching_current_df['BB']+Pitching_current_df['H'])/\n",
    "                               (Pitching_current_df['IPouts']/3))"
   ]
  },
  {
   "cell_type": "markdown",
   "metadata": {},
   "source": [
    "Combining the dataframes for current Pitchers with their Salaries, I get :"
   ]
  },
  {
   "cell_type": "code",
   "execution_count": 48,
   "metadata": {
    "collapsed": true
   },
   "outputs": [],
   "source": [
    "Pitching_Salaries_current_df = (Pitching_current_df.merge(current_salaries_df, on='playerID',\n",
    "                                                          how='left'))"
   ]
  },
  {
   "cell_type": "markdown",
   "metadata": {},
   "source": [
    "Only looking at their current Pitching Statistics I get :"
   ]
  },
  {
   "cell_type": "code",
   "execution_count": 49,
   "metadata": {
    "collapsed": true
   },
   "outputs": [],
   "source": [
    "choose_pitchers_df = (Pitching_Salaries_current_df[['playerID','yearID_x','nameFirst',\n",
    "                                                    'nameLast','teamID','lgID',\n",
    "                                                    'WHIP','salary','Min_More_Peak_yrs']].\n",
    "                      query('yearID_x==2016'))\n",
    "#choose_pitchers_df"
   ]
  },
  {
   "cell_type": "markdown",
   "metadata": {},
   "source": [
    "Some Pitchers have more than 1 pitching statistics. So I find their mean :"
   ]
  },
  {
   "cell_type": "code",
   "execution_count": 50,
   "metadata": {
    "collapsed": true
   },
   "outputs": [],
   "source": [
    "Pitcher_choice_df = choose_pitchers_df.groupby(['playerID','nameFirst','nameLast']).mean()"
   ]
  },
  {
   "cell_type": "markdown",
   "metadata": {},
   "source": [
    "Let me arrange them in ascending order of 'WHIP'. That way I have my best Pitchers on top."
   ]
  },
  {
   "cell_type": "code",
   "execution_count": 51,
   "metadata": {
    "collapsed": true
   },
   "outputs": [],
   "source": [
    "Current_Pitcher_choice_df = Pitcher_choice_df.sort_values('WHIP')\n",
    "#Current_Pitcher_choice_df.info()\n",
    "#Current_Pitcher_choice_df.hist()"
   ]
  },
  {
   "cell_type": "markdown",
   "metadata": {},
   "source": [
    "As before, I see that I don't have salary and Min_More_Peak_yrs information for certain players. But I might find it later. "
   ]
  },
  {
   "cell_type": "markdown",
   "metadata": {},
   "source": [
    "I can recommend a Pitcher using this Table !"
   ]
  },
  {
   "cell_type": "markdown",
   "metadata": {},
   "source": [
    "Now I want to have a Table of Fielders ready for next season :"
   ]
  },
  {
   "cell_type": "markdown",
   "metadata": {},
   "source": [
    "I would like to know the 'fielding percentage' of my Fielders :"
   ]
  },
  {
   "cell_type": "code",
   "execution_count": 52,
   "metadata": {
    "collapsed": true
   },
   "outputs": [],
   "source": [
    "Fielding_current_df['FP'] = ((Fielding_current_df['PO']+Fielding_current_df['A'])/\n",
    "                             (Fielding_current_df['PO']+Fielding_current_df['A']+\n",
    "                              Fielding_current_df['E']))"
   ]
  },
  {
   "cell_type": "markdown",
   "metadata": {},
   "source": [
    "Then combine this dataframe with the Salaries dataframe :"
   ]
  },
  {
   "cell_type": "code",
   "execution_count": 53,
   "metadata": {
    "collapsed": true
   },
   "outputs": [],
   "source": [
    "Fielding_Salaries_current_df = (Fielding_current_df.merge(current_salaries_df,on='playerID',\n",
    "                                                         how='left'))"
   ]
  },
  {
   "cell_type": "markdown",
   "metadata": {},
   "source": [
    "I am interested in their current Fielding Statistics :"
   ]
  },
  {
   "cell_type": "code",
   "execution_count": 54,
   "metadata": {
    "collapsed": true
   },
   "outputs": [],
   "source": [
    "choose_fielders_df = (Fielding_Salaries_current_df[['playerID','yearID_x','nameFirst',\n",
    "                                                    'nameLast','teamID','lgID','FP',\n",
    "                                                    'salary','Min_More_Peak_yrs']].\n",
    "                     query('yearID_x==2016'))\n",
    "#choose_fielders_df"
   ]
  },
  {
   "cell_type": "markdown",
   "metadata": {},
   "source": [
    "Some Fielders have more than 1 fielding statistics for the current year. So I find their mean :"
   ]
  },
  {
   "cell_type": "code",
   "execution_count": 55,
   "metadata": {
    "collapsed": true
   },
   "outputs": [],
   "source": [
    "Fielder_choice_df = choose_fielders_df.groupby(['playerID','nameFirst','nameLast']).mean()"
   ]
  },
  {
   "cell_type": "markdown",
   "metadata": {},
   "source": [
    "Arranging them in the descending order of their fielding percentages :"
   ]
  },
  {
   "cell_type": "code",
   "execution_count": 56,
   "metadata": {
    "collapsed": true
   },
   "outputs": [],
   "source": [
    "Current_Fielder_choice_df = Fielder_choice_df.sort_values('FP',ascending=False)\n",
    "#Current_Fielder_choice_df.hist()\n",
    "#Current_Fielder_choice_df.info()"
   ]
  },
  {
   "cell_type": "markdown",
   "metadata": {},
   "source": [
    "Again I see that some columns have information missing, which I will have to acquire later."
   ]
  },
  {
   "cell_type": "markdown",
   "metadata": {},
   "source": [
    "I can recommend a Fielder using this Table !"
   ]
  },
  {
   "cell_type": "markdown",
   "metadata": {},
   "source": [
    "These Tables give me a good idea about choosing players. But I have to caution about their accuracy, because I have not taken all kinds of Statistics into consideration. Also I have not performed any targeted tests. Statistical tests are important for making accurate conclusions."
   ]
  },
  {
   "cell_type": "markdown",
   "metadata": {},
   "source": [
    "###### Let's see which teams have been the Toppers in last 10 years of MLB :"
   ]
  },
  {
   "cell_type": "code",
   "execution_count": 57,
   "metadata": {
    "collapsed": true
   },
   "outputs": [],
   "source": [
    "Teams_df = pd.read_csv('Teams.csv')"
   ]
  },
  {
   "cell_type": "markdown",
   "metadata": {},
   "source": [
    "I slice the dataframe and get the data for last 10 years :"
   ]
  },
  {
   "cell_type": "code",
   "execution_count": 58,
   "metadata": {
    "collapsed": true
   },
   "outputs": [],
   "source": [
    "Teams_10_yrs_df = Teams_df.query('yearID>2006 and yearID<=2016')\n",
    "#Teams_10_yrs_df.info()"
   ]
  },
  {
   "cell_type": "markdown",
   "metadata": {},
   "source": [
    "I further slice it to get data for Top 5 ranking teams :"
   ]
  },
  {
   "cell_type": "code",
   "execution_count": 59,
   "metadata": {
    "collapsed": true
   },
   "outputs": [],
   "source": [
    "Teams_10_yrs_ranked5_df = Teams_10_yrs_df.query('Rank>=1 and Rank<=5')\n",
    "#Teams_10_yrs_ranked5_df.loc[Teams_10_yrs_ranked5_df['teamID']==\"OAK\"]"
   ]
  },
  {
   "cell_type": "markdown",
   "metadata": {},
   "source": [
    "Then I get a list of teams that ranked Top 5 in last 10 years :"
   ]
  },
  {
   "cell_type": "code",
   "execution_count": 60,
   "metadata": {},
   "outputs": [
    {
     "data": {
      "text/plain": [
       "array(['ARI', 'ATL', 'BAL', 'BOS', 'CHA', 'CHN', 'CIN', 'CLE', 'COL',\n",
       "       'DET', 'FLO', 'HOU', 'KCA', 'LAA', 'LAN', 'MIL', 'MIN', 'NYA',\n",
       "       'NYN', 'OAK', 'PHI', 'SDN', 'SEA', 'SFN', 'SLN', 'TBA', 'TEX',\n",
       "       'TOR', 'WAS', 'PIT', 'MIA'], dtype=object)"
      ]
     },
     "execution_count": 60,
     "metadata": {},
     "output_type": "execute_result"
    }
   ],
   "source": [
    "top5_teams = Teams_10_yrs_ranked5_df['teamID'].unique()\n",
    "top5_teams"
   ]
  },
  {
   "cell_type": "markdown",
   "metadata": {},
   "source": [
    "With the help of the list, I extract information about the teams. I see that some teams have had different names over the years. So I retain only their latest name and drop the old ones :"
   ]
  },
  {
   "cell_type": "code",
   "execution_count": 61,
   "metadata": {
    "collapsed": true
   },
   "outputs": [],
   "source": [
    "Top5_last10yrs_df =((Teams_10_yrs_ranked5_df[['teamID','name','park']].\n",
    "                 loc[Teams_10_yrs_ranked5_df['teamID'].isin(top5_teams)]).\n",
    "                drop_duplicates('name',keep='last'))"
   ]
  },
  {
   "cell_type": "markdown",
   "metadata": {},
   "source": [
    "These teams have ranked Top 5 in last 10 years."
   ]
  },
  {
   "cell_type": "code",
   "execution_count": 62,
   "metadata": {},
   "outputs": [
    {
     "data": {
      "text/plain": [
       "<matplotlib.text.Text at 0x102606a0>"
      ]
     },
     "execution_count": 62,
     "metadata": {},
     "output_type": "execute_result"
    },
    {
     "data": {
      "image/png": "[encoded data removed]",
      "text/plain": [
       "<matplotlib.figure.Figure at 0x6902710>"
      ]
     },
     "metadata": {},
     "output_type": "display_data"
    }
   ],
   "source": [
    "Teams_10_yrs_ranked5_df['Rank'].hist(by=Teams_10_yrs_ranked5_df['teamID'])\n",
    "plt.title('Top5 TeamRankings Last10Years')\n",
    "plt.xlabel('Ranks')\n",
    "plt.ylabel('FrequencyIn10Years')"
   ]
  },
  {
   "cell_type": "markdown",
   "metadata": {},
   "source": [
    "These histograms show at a glance all the Top 5 Teams from last 10 Years.\n",
    "\n",
    "The horizontal axes show the Ranks.\n",
    "\n",
    "The vertical axes show the Frequency of those Ranks in last 10 Years."
   ]
  },
  {
   "cell_type": "markdown",
   "metadata": {},
   "source": [
    "###### I want to see how the popularity of Baseball has been over the years."
   ]
  },
  {
   "cell_type": "markdown",
   "metadata": {},
   "source": [
    "For this, I found the mean home attendance each decade and then plotted them."
   ]
  },
  {
   "cell_type": "markdown",
   "metadata": {},
   "source": [
    "I needed a function that would convert an year to a decade it falls in :"
   ]
  },
  {
   "cell_type": "code",
   "execution_count": 63,
   "metadata": {
    "collapsed": true
   },
   "outputs": [],
   "source": [
    "def convert_to_decade(yr):\n",
    "    decade = str(yr)[:3]\n",
    "    return decade"
   ]
  },
  {
   "cell_type": "markdown",
   "metadata": {},
   "source": [
    "Applying the function to the column 'yearID' in the Teams dataframe, I grouped the dataframe by decade, found mean of the home attendance for each decade, and then plotted the 'mean attendance' against the 'decades'."
   ]
  },
  {
   "cell_type": "code",
   "execution_count": 74,
   "metadata": {},
   "outputs": [
    {
     "data": {
      "text/plain": [
       "<matplotlib.text.Text at 0x13c75f28>"
      ]
     },
     "execution_count": 74,
     "metadata": {},
     "output_type": "execute_result"
    },
    {
     "data": {
      "image/png": "[encoded data removed]",
      "text/plain": [
       "<matplotlib.figure.Figure at 0x13c90f60>"
      ]
     },
     "metadata": {},
     "output_type": "display_data"
    }
   ],
   "source": [
    "Teams_df['attendance'].groupby(Teams_df['yearID'].apply(convert_to_decade)).mean().plot()\n",
    "plt.xlabel('Decade')\n",
    "plt.ylabel('mean home attendance')\n",
    "plt.title('Popularity based on Home Attendance')"
   ]
  },
  {
   "cell_type": "markdown",
   "metadata": {},
   "source": [
    "This plot shows a continuous rise in Home Attendance. I wonder why there was a dip between 1920 and 1940 ! Could it be because of The Great Depression ?"
   ]
  },
  {
   "cell_type": "markdown",
   "metadata": {
    "collapsed": true
   },
   "source": [
    "I cannot make any sure statement about the attendance since there are some missing values in the column. Also I have used mean attendances to plot my graph. This also makes it an estimated graph."
   ]
  },
  {
   "cell_type": "markdown",
   "metadata": {},
   "source": [
    "#### A plot of Games and Wins Per Decade :"
   ]
  },
  {
   "cell_type": "code",
   "execution_count": 65,
   "metadata": {},
   "outputs": [
    {
     "data": {
      "text/plain": [
       "<matplotlib.text.Text at 0xfebe908>"
      ]
     },
     "execution_count": 65,
     "metadata": {},
     "output_type": "execute_result"
    },
    {
     "data": {
      "image/png": "[encoded data removed]",
      "text/plain": [
       "<matplotlib.figure.Figure at 0x12fb1f28>"
      ]
     },
     "metadata": {},
     "output_type": "display_data"
    }
   ],
   "source": [
    "(Teams_df[['G','HR']].groupby(Teams_df['yearID'].apply(convert_to_decade)).\n",
    " sum().plot(kind='bar').set_ylabel('GamesPlayed/HomeRuns'))\n",
    "plt.xlabel('Decade')\n",
    "plt.title('Games Played and Home Runs Per Decade')"
   ]
  },
  {
   "cell_type": "markdown",
   "metadata": {},
   "source": [
    "This is interesting ! \n",
    "\n",
    "Compared to number of games played, number of Home Runs made per decade rose significantly over the years !\n",
    "\n",
    "Did the game become more competitive over the years ? Did baseball players improve their technique over the years ?"
   ]
  },
  {
   "cell_type": "markdown",
   "metadata": {},
   "source": [
    "#### A pie plot of Games Per Decade :"
   ]
  },
  {
   "cell_type": "code",
   "execution_count": 66,
   "metadata": {},
   "outputs": [
    {
     "data": {
      "text/plain": [
       "<matplotlib.text.Text at 0x1303f940>"
      ]
     },
     "execution_count": 66,
     "metadata": {},
     "output_type": "execute_result"
    },
    {
     "data": {
      "image/png": "[encoded data removed]",
      "text/plain": [
       "<matplotlib.figure.Figure at 0x1304af60>"
      ]
     },
     "metadata": {},
     "output_type": "display_data"
    }
   ],
   "source": [
    "Teams_df['G'].groupby(Teams_df['yearID'].apply(convert_to_decade)).sum().plot(kind='pie')\n",
    "plt.title('Games Per Decade')\n",
    "plt.xlabel('Decade')\n",
    "plt.ylabel('Games')"
   ]
  },
  {
   "cell_type": "markdown",
   "metadata": {},
   "source": [
    "###### Winners Win :"
   ]
  },
  {
   "cell_type": "markdown",
   "metadata": {},
   "source": [
    "I wanted to see what I can learn about Winners.\n",
    "\n",
    "The SeriesPost database provides the number of games won and lost by the Winning Teams."
   ]
  },
  {
   "cell_type": "code",
   "execution_count": 69,
   "metadata": {
    "collapsed": true
   },
   "outputs": [],
   "source": [
    "SeriesPost_df = pd.read_csv('SeriesPost.csv')"
   ]
  },
  {
   "cell_type": "markdown",
   "metadata": {},
   "source": [
    "A bar plot of Wins & Losses by the Winning Teams per decade :"
   ]
  },
  {
   "cell_type": "code",
   "execution_count": 70,
   "metadata": {},
   "outputs": [
    {
     "data": {
      "text/plain": [
       "<matplotlib.text.Text at 0x12fe67b8>"
      ]
     },
     "execution_count": 70,
     "metadata": {},
     "output_type": "execute_result"
    },
    {
     "data": {
      "image/png": "[encoded data removed]",
      "text/plain": [
       "<matplotlib.figure.Figure at 0x13215f60>"
      ]
     },
     "metadata": {},
     "output_type": "display_data"
    }
   ],
   "source": [
    "(SeriesPost_df[['wins','losses']].groupby(SeriesPost_df['yearID'].apply(convert_to_decade)).\n",
    " sum().plot(kind='bar'))\n",
    "plt.title('Wins and Losses by Winning teams')\n",
    "plt.xlabel('Decade')\n",
    "plt.ylabel('Number of Wins/Losses')"
   ]
  },
  {
   "cell_type": "markdown",
   "metadata": {},
   "source": [
    "I did expect the Winning Teams to have more wins than losses.\n",
    "\n",
    "But I was surprised to see the wins to be this much prominent than the losses.\n",
    "\n",
    "Winners Win because they are consistent about it. They work hard, Play hard !"
   ]
  },
  {
   "cell_type": "markdown",
   "metadata": {},
   "source": [
    "###### Was I successful in answering my questions, solving my puzzles mentioned at the beginning of this analysis ? "
   ]
  },
  {
   "cell_type": "markdown",
   "metadata": {},
   "source": [
    "Yes, now I know the Top5 Ranking Teams from last 10 years.\n",
    "\n",
    "By looking at the correlation between Shortstop and Designated Hitter, I satisfied my curiosity about the interconnection between Batter and Fielder. I can apply the same technique for other correlations.\n",
    "\n",
    "I studied the Popularity of Baseball over the years based on home attendance. My study showed an almost continuous increase in the popularity.\n",
    "\n",
    "I also found that more Home Runs are being hit today than before.\n",
    "\n",
    "I learned that Winners win because they are really good at the game, and not just by chance.\n",
    "\n",
    "My Hypothesis Test about Batting Statistics for the World War 2 period showed me that similar Hypothesis Tests can be done for any other period and any other Statistics.\n",
    "\n",
    "I was able to gather information about Batting, Pitching and Fielding for players that are currently playing. With some calculations I deduced more information that will be helpful in choosing Players for the next season."
   ]
  },
  {
   "cell_type": "markdown",
   "metadata": {
    "collapsed": true
   },
   "source": [
    "After having a good variety of Batters, Pitchers and Fielders in my team, I can further consider the Park Factor. The Teams Dataframe has scores of Batting Park Factor and Pitching Park Factor. I can merge the Teams Dataframe with Parks Dataframe retaining columns teamID, park, BPF and PPF from Teams Dataframe and all columns from Parks Dataframe.\n",
    "Then, when my Team plays, I can line up my players depending on whether the particular park is good for Hitters or Pitchers !\n",
    "\n",
    "Applying further Data Analytics to this Baseball Database, more research is possible.\n",
    "\n",
    "The Game could be further refined and more talent can be tapped into."
   ]
  },
  {
   "cell_type": "markdown",
   "metadata": {
    "collapsed": true
   },
   "source": [
    "On my way I saw so many interesting Statistics. \n",
    "\n",
    "Its one thing to like a Game. Its a whole new thing to study the game statistically.\n",
    "\n",
    "It gives so many insights that you start to love the Game !"
   ]
  },
  {
   "cell_type": "markdown",
   "metadata": {},
   "source": [
    "I could not have done this without the help of Google Searches, Pandas Documentation, Matplotlib and Seaborn Documentation, Stack Overflow users, Udacity Lectures and much more !"
   ]
  },
  {
   "cell_type": "code",
   "execution_count": null,
   "metadata": {
    "collapsed": true
   },
   "outputs": [],
   "source": []
  }
 ],
 "metadata": {
  "kernelspec": {
   "display_name": "Python [default]",
   "language": "python",
   "name": "python3"
  },
  "language_info": {
   "codemirror_mode": {
    "name": "ipython",
    "version": 3
   },
   "file_extension": ".py",
   "mimetype": "text/x-python",
   "name": "python",
   "nbconvert_exporter": "python",
   "pygments_lexer": "ipython3",
   "version": "3.6.0"
  }
 },
 "nbformat": 4,
 "nbformat_minor": 2
}
